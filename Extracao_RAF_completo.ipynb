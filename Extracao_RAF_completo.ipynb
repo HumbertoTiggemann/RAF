{
  "nbformat": 4,
  "nbformat_minor": 0,
  "metadata": {
    "colab": {
      "provenance": [],
      "authorship_tag": "ABX9TyMe9xBaJJp+HC7GdtZjlhWk",
      "include_colab_link": true
    },
    "kernelspec": {
      "name": "python3",
      "display_name": "Python 3"
    },
    "language_info": {
      "name": "python"
    }
  },
  "cells": [
    {
      "cell_type": "markdown",
      "metadata": {
        "id": "view-in-github",
        "colab_type": "text"
      },
      "source": [
        "<a href=\"https://colab.research.google.com/github/HumbertoTiggemann/RAF/blob/main/Extracao_RAF_completo.ipynb\" target=\"_parent\"><img src=\"https://colab.research.google.com/assets/colab-badge.svg\" alt=\"Open In Colab\"/></a>"
      ]
    },
    {
      "cell_type": "markdown",
      "source": [
        "#Extrator de dados dos __*Relatorio de Atividade Fiscal (RAF)*__ dos Conselhos de Farmácia do Brasil\n",
        "\n",
        "\n"
      ],
      "metadata": {
        "id": "pfhyrGIxyNy5"
      }
    },
    {
      "cell_type": "code",
      "execution_count": null,
      "metadata": {
        "colab": {
          "base_uri": "https://localhost:8080/"
        },
        "id": "6jrll33q9AkB",
        "outputId": "e5d2ef3b-b5bb-488e-acda-89981b623ba6"
      },
      "outputs": [
        {
          "output_type": "stream",
          "name": "stdout",
          "text": [
            "Collecting tabula-py\n",
            "  Downloading tabula_py-2.9.0-py3-none-any.whl (12.0 MB)\n",
            "\u001b[?25l     \u001b[90m━━━━━━━━━━━━━━━━━━━━━━━━━━━━━━━━━━━━━━━━\u001b[0m \u001b[32m0.0/12.0 MB\u001b[0m \u001b[31m?\u001b[0m eta \u001b[36m-:--:--\u001b[0m\r\u001b[2K     \u001b[91m━━\u001b[0m\u001b[90m╺\u001b[0m\u001b[90m━━━━━━━━━━━━━━━━━━━━━━━━━━━━━━━━━━━━━\u001b[0m \u001b[32m0.7/12.0 MB\u001b[0m \u001b[31m20.4 MB/s\u001b[0m eta \u001b[36m0:00:01\u001b[0m\r\u001b[2K     \u001b[91m━━━━━━━━━━━━━━━━━━━━\u001b[0m\u001b[90m╺\u001b[0m\u001b[90m━━━━━━━━━━━━━━━━━━━\u001b[0m \u001b[32m6.2/12.0 MB\u001b[0m \u001b[31m89.1 MB/s\u001b[0m eta \u001b[36m0:00:01\u001b[0m\r\u001b[2K     \u001b[91m━━━━━━━━━━━━━━━━━━━━━━━━━━━━━━━━━━━━━\u001b[0m\u001b[90m╺\u001b[0m\u001b[90m━━\u001b[0m \u001b[32m11.3/12.0 MB\u001b[0m \u001b[31m153.8 MB/s\u001b[0m eta \u001b[36m0:00:01\u001b[0m\r\u001b[2K     \u001b[91m━━━━━━━━━━━━━━━━━━━━━━━━━━━━━━━━━━━━━━━\u001b[0m\u001b[91m╸\u001b[0m \u001b[32m12.0/12.0 MB\u001b[0m \u001b[31m150.1 MB/s\u001b[0m eta \u001b[36m0:00:01\u001b[0m\r\u001b[2K     \u001b[90m━━━━━━━━━━━━━━━━━━━━━━━━━━━━━━━━━━━━━━━━\u001b[0m \u001b[32m12.0/12.0 MB\u001b[0m \u001b[31m76.4 MB/s\u001b[0m eta \u001b[36m0:00:00\u001b[0m\n",
            "\u001b[?25hRequirement already satisfied: pandas>=0.25.3 in /usr/local/lib/python3.10/dist-packages (from tabula-py) (1.5.3)\n",
            "Requirement already satisfied: numpy in /usr/local/lib/python3.10/dist-packages (from tabula-py) (1.25.2)\n",
            "Requirement already satisfied: distro in /usr/lib/python3/dist-packages (from tabula-py) (1.7.0)\n",
            "Requirement already satisfied: python-dateutil>=2.8.1 in /usr/local/lib/python3.10/dist-packages (from pandas>=0.25.3->tabula-py) (2.8.2)\n",
            "Requirement already satisfied: pytz>=2020.1 in /usr/local/lib/python3.10/dist-packages (from pandas>=0.25.3->tabula-py) (2023.4)\n",
            "Requirement already satisfied: six>=1.5 in /usr/local/lib/python3.10/dist-packages (from python-dateutil>=2.8.1->pandas>=0.25.3->tabula-py) (1.16.0)\n",
            "Installing collected packages: tabula-py\n",
            "Successfully installed tabula-py-2.9.0\n"
          ]
        }
      ],
      "source": [
        "pip install tabula-py"
      ]
    },
    {
      "cell_type": "code",
      "source": [
        "pip install xlwt"
      ],
      "metadata": {
        "colab": {
          "base_uri": "https://localhost:8080/"
        },
        "id": "zraw7CdDOHLr",
        "outputId": "9a5bff55-e9ee-4058-920c-095d0ffdf3e4"
      },
      "execution_count": null,
      "outputs": [
        {
          "output_type": "stream",
          "name": "stdout",
          "text": [
            "Collecting xlwt\n",
            "  Downloading xlwt-1.3.0-py2.py3-none-any.whl (99 kB)\n",
            "\u001b[?25l     \u001b[90m━━━━━━━━━━━━━━━━━━━━━━━━━━━━━━━━━━━━━━━━\u001b[0m \u001b[32m0.0/100.0 kB\u001b[0m \u001b[31m?\u001b[0m eta \u001b[36m-:--:--\u001b[0m\r\u001b[2K     \u001b[91m━━━━━━━━━━━━━━━━━━━━━━━━━━━━━━━━━━━━\u001b[0m\u001b[91m╸\u001b[0m\u001b[90m━━━\u001b[0m \u001b[32m92.2/100.0 kB\u001b[0m \u001b[31m2.5 MB/s\u001b[0m eta \u001b[36m0:00:01\u001b[0m\r\u001b[2K     \u001b[90m━━━━━━━━━━━━━━━━━━━━━━━━━━━━━━━━━━━━━━━━\u001b[0m \u001b[32m100.0/100.0 kB\u001b[0m \u001b[31m2.2 MB/s\u001b[0m eta \u001b[36m0:00:00\u001b[0m\n",
            "\u001b[?25hInstalling collected packages: xlwt\n",
            "Successfully installed xlwt-1.3.0\n"
          ]
        }
      ]
    },
    {
      "cell_type": "code",
      "source": [
        "pip install openpyxl\n"
      ],
      "metadata": {
        "colab": {
          "base_uri": "https://localhost:8080/"
        },
        "id": "G5hUczn0Ogqn",
        "outputId": "8a57363d-47d6-4656-b3a0-bc978a29673f"
      },
      "execution_count": null,
      "outputs": [
        {
          "output_type": "stream",
          "name": "stdout",
          "text": [
            "Requirement already satisfied: openpyxl in /usr/local/lib/python3.10/dist-packages (3.1.2)\n",
            "Requirement already satisfied: et-xmlfile in /usr/local/lib/python3.10/dist-packages (from openpyxl) (1.1.0)\n"
          ]
        }
      ]
    },
    {
      "cell_type": "code",
      "source": [
        "pip install jpype1"
      ],
      "metadata": {
        "colab": {
          "base_uri": "https://localhost:8080/"
        },
        "id": "VmNqqVmcHUVv",
        "outputId": "dbd7383d-053e-4b49-8356-a7be6e85e226"
      },
      "execution_count": null,
      "outputs": [
        {
          "output_type": "stream",
          "name": "stdout",
          "text": [
            "Collecting jpype1\n",
            "  Downloading JPype1-1.5.0-cp310-cp310-manylinux_2_17_x86_64.manylinux2014_x86_64.whl (488 kB)\n",
            "\u001b[?25l     \u001b[90m━━━━━━━━━━━━━━━━━━━━━━━━━━━━━━━━━━━━━━━━\u001b[0m \u001b[32m0.0/488.6 kB\u001b[0m \u001b[31m?\u001b[0m eta \u001b[36m-:--:--\u001b[0m\r\u001b[2K     \u001b[91m━━━━━━━━━━━━━━━━━━━━━━━━━━━━━━\u001b[0m\u001b[90m╺\u001b[0m\u001b[90m━━━━━━━━━\u001b[0m \u001b[32m368.6/488.6 kB\u001b[0m \u001b[31m10.7 MB/s\u001b[0m eta \u001b[36m0:00:01\u001b[0m\r\u001b[2K     \u001b[91m━━━━━━━━━━━━━━━━━━━━━━━━━━━━━━━━━━━━━━━\u001b[0m\u001b[90m╺\u001b[0m \u001b[32m481.3/488.6 kB\u001b[0m \u001b[31m12.9 MB/s\u001b[0m eta \u001b[36m0:00:01\u001b[0m\r\u001b[2K     \u001b[90m━━━━━━━━━━━━━━━━━━━━━━━━━━━━━━━━━━━━━━━━\u001b[0m \u001b[32m488.6/488.6 kB\u001b[0m \u001b[31m6.6 MB/s\u001b[0m eta \u001b[36m0:00:00\u001b[0m\n",
            "\u001b[?25hRequirement already satisfied: packaging in /usr/local/lib/python3.10/dist-packages (from jpype1) (23.2)\n",
            "Installing collected packages: jpype1\n",
            "Successfully installed jpype1-1.5.0\n"
          ]
        }
      ]
    },
    {
      "cell_type": "code",
      "source": [
        "import tabula\n",
        "import os\n",
        "import pandas as pd\n",
        "import numpy as np\n",
        "import xlwt\n",
        "import openpyxl\n",
        "from openpyxl import Workbook\n",
        "from google.colab import files\n",
        "import tempfile\n"
      ],
      "metadata": {
        "id": "Csnfcbya_hNg"
      },
      "execution_count": null,
      "outputs": []
    },
    {
      "cell_type": "code",
      "source": [
        "#fazer os uploadas dos arquivos do raf para o drive temporario do Coolab\n",
        "uploaded = files.upload()\n",
        "\n",
        "for fn in uploaded.keys():\n",
        "  print('Arquivo: \"{name}\", tamanho {length} bytes'.format(\n",
        "      name=fn, length=len(uploaded[fn])))"
      ],
      "metadata": {
        "colab": {
          "base_uri": "https://localhost:8080/",
          "height": 1000
        },
        "id": "m32lTlF2yjeD",
        "outputId": "7225d64d-9bde-4c38-e226-a1bacc403f90"
      },
      "execution_count": null,
      "outputs": [
        {
          "output_type": "display_data",
          "data": {
            "text/plain": [
              "<IPython.core.display.HTML object>"
            ],
            "text/html": [
              "\n",
              "     <input type=\"file\" id=\"files-2b5ece8b-43cd-4837-aae1-2facaf0cac56\" name=\"files[]\" multiple disabled\n",
              "        style=\"border:none\" />\n",
              "     <output id=\"result-2b5ece8b-43cd-4837-aae1-2facaf0cac56\">\n",
              "      Upload widget is only available when the cell has been executed in the\n",
              "      current browser session. Please rerun this cell to enable.\n",
              "      </output>\n",
              "      <script>// Copyright 2017 Google LLC\n",
              "//\n",
              "// Licensed under the Apache License, Version 2.0 (the \"License\");\n",
              "// you may not use this file except in compliance with the License.\n",
              "// You may obtain a copy of the License at\n",
              "//\n",
              "//      http://www.apache.org/licenses/LICENSE-2.0\n",
              "//\n",
              "// Unless required by applicable law or agreed to in writing, software\n",
              "// distributed under the License is distributed on an \"AS IS\" BASIS,\n",
              "// WITHOUT WARRANTIES OR CONDITIONS OF ANY KIND, either express or implied.\n",
              "// See the License for the specific language governing permissions and\n",
              "// limitations under the License.\n",
              "\n",
              "/**\n",
              " * @fileoverview Helpers for google.colab Python module.\n",
              " */\n",
              "(function(scope) {\n",
              "function span(text, styleAttributes = {}) {\n",
              "  const element = document.createElement('span');\n",
              "  element.textContent = text;\n",
              "  for (const key of Object.keys(styleAttributes)) {\n",
              "    element.style[key] = styleAttributes[key];\n",
              "  }\n",
              "  return element;\n",
              "}\n",
              "\n",
              "// Max number of bytes which will be uploaded at a time.\n",
              "const MAX_PAYLOAD_SIZE = 100 * 1024;\n",
              "\n",
              "function _uploadFiles(inputId, outputId) {\n",
              "  const steps = uploadFilesStep(inputId, outputId);\n",
              "  const outputElement = document.getElementById(outputId);\n",
              "  // Cache steps on the outputElement to make it available for the next call\n",
              "  // to uploadFilesContinue from Python.\n",
              "  outputElement.steps = steps;\n",
              "\n",
              "  return _uploadFilesContinue(outputId);\n",
              "}\n",
              "\n",
              "// This is roughly an async generator (not supported in the browser yet),\n",
              "// where there are multiple asynchronous steps and the Python side is going\n",
              "// to poll for completion of each step.\n",
              "// This uses a Promise to block the python side on completion of each step,\n",
              "// then passes the result of the previous step as the input to the next step.\n",
              "function _uploadFilesContinue(outputId) {\n",
              "  const outputElement = document.getElementById(outputId);\n",
              "  const steps = outputElement.steps;\n",
              "\n",
              "  const next = steps.next(outputElement.lastPromiseValue);\n",
              "  return Promise.resolve(next.value.promise).then((value) => {\n",
              "    // Cache the last promise value to make it available to the next\n",
              "    // step of the generator.\n",
              "    outputElement.lastPromiseValue = value;\n",
              "    return next.value.response;\n",
              "  });\n",
              "}\n",
              "\n",
              "/**\n",
              " * Generator function which is called between each async step of the upload\n",
              " * process.\n",
              " * @param {string} inputId Element ID of the input file picker element.\n",
              " * @param {string} outputId Element ID of the output display.\n",
              " * @return {!Iterable<!Object>} Iterable of next steps.\n",
              " */\n",
              "function* uploadFilesStep(inputId, outputId) {\n",
              "  const inputElement = document.getElementById(inputId);\n",
              "  inputElement.disabled = false;\n",
              "\n",
              "  const outputElement = document.getElementById(outputId);\n",
              "  outputElement.innerHTML = '';\n",
              "\n",
              "  const pickedPromise = new Promise((resolve) => {\n",
              "    inputElement.addEventListener('change', (e) => {\n",
              "      resolve(e.target.files);\n",
              "    });\n",
              "  });\n",
              "\n",
              "  const cancel = document.createElement('button');\n",
              "  inputElement.parentElement.appendChild(cancel);\n",
              "  cancel.textContent = 'Cancel upload';\n",
              "  const cancelPromise = new Promise((resolve) => {\n",
              "    cancel.onclick = () => {\n",
              "      resolve(null);\n",
              "    };\n",
              "  });\n",
              "\n",
              "  // Wait for the user to pick the files.\n",
              "  const files = yield {\n",
              "    promise: Promise.race([pickedPromise, cancelPromise]),\n",
              "    response: {\n",
              "      action: 'starting',\n",
              "    }\n",
              "  };\n",
              "\n",
              "  cancel.remove();\n",
              "\n",
              "  // Disable the input element since further picks are not allowed.\n",
              "  inputElement.disabled = true;\n",
              "\n",
              "  if (!files) {\n",
              "    return {\n",
              "      response: {\n",
              "        action: 'complete',\n",
              "      }\n",
              "    };\n",
              "  }\n",
              "\n",
              "  for (const file of files) {\n",
              "    const li = document.createElement('li');\n",
              "    li.append(span(file.name, {fontWeight: 'bold'}));\n",
              "    li.append(span(\n",
              "        `(${file.type || 'n/a'}) - ${file.size} bytes, ` +\n",
              "        `last modified: ${\n",
              "            file.lastModifiedDate ? file.lastModifiedDate.toLocaleDateString() :\n",
              "                                    'n/a'} - `));\n",
              "    const percent = span('0% done');\n",
              "    li.appendChild(percent);\n",
              "\n",
              "    outputElement.appendChild(li);\n",
              "\n",
              "    const fileDataPromise = new Promise((resolve) => {\n",
              "      const reader = new FileReader();\n",
              "      reader.onload = (e) => {\n",
              "        resolve(e.target.result);\n",
              "      };\n",
              "      reader.readAsArrayBuffer(file);\n",
              "    });\n",
              "    // Wait for the data to be ready.\n",
              "    let fileData = yield {\n",
              "      promise: fileDataPromise,\n",
              "      response: {\n",
              "        action: 'continue',\n",
              "      }\n",
              "    };\n",
              "\n",
              "    // Use a chunked sending to avoid message size limits. See b/62115660.\n",
              "    let position = 0;\n",
              "    do {\n",
              "      const length = Math.min(fileData.byteLength - position, MAX_PAYLOAD_SIZE);\n",
              "      const chunk = new Uint8Array(fileData, position, length);\n",
              "      position += length;\n",
              "\n",
              "      const base64 = btoa(String.fromCharCode.apply(null, chunk));\n",
              "      yield {\n",
              "        response: {\n",
              "          action: 'append',\n",
              "          file: file.name,\n",
              "          data: base64,\n",
              "        },\n",
              "      };\n",
              "\n",
              "      let percentDone = fileData.byteLength === 0 ?\n",
              "          100 :\n",
              "          Math.round((position / fileData.byteLength) * 100);\n",
              "      percent.textContent = `${percentDone}% done`;\n",
              "\n",
              "    } while (position < fileData.byteLength);\n",
              "  }\n",
              "\n",
              "  // All done.\n",
              "  yield {\n",
              "    response: {\n",
              "      action: 'complete',\n",
              "    }\n",
              "  };\n",
              "}\n",
              "\n",
              "scope.google = scope.google || {};\n",
              "scope.google.colab = scope.google.colab || {};\n",
              "scope.google.colab._files = {\n",
              "  _uploadFiles,\n",
              "  _uploadFilesContinue,\n",
              "};\n",
              "})(self);\n",
              "</script> "
            ]
          },
          "metadata": {}
        },
        {
          "output_type": "stream",
          "name": "stdout",
          "text": [
            "Saving 1_Raf enviado.pdf to 1_Raf enviado.pdf\n",
            "Saving 1_raf_janeiro_2022 versao 2.pdf to 1_raf_janeiro_2022 versao 2.pdf\n",
            "Saving 2_Raf enviado.pdf to 2_Raf enviado.pdf\n",
            "Saving raf - abril - 2022.pdf to raf - abril - 2022.pdf\n",
            "Saving raf - marco - 2022.pdf to raf - marco - 2022.pdf\n",
            "Saving Raf enviado (1).pdf to Raf enviado (1).pdf\n",
            "Saving Raf enviado (2).pdf to Raf enviado (2).pdf\n",
            "Saving Raf enviado (3).pdf to Raf enviado (3).pdf\n",
            "Saving RAF enviado (4).pdf to RAF enviado (4).pdf\n",
            "Saving Raf enviado (5).pdf to Raf enviado (5).pdf\n",
            "Saving raf enviado 2 (1).pdf to raf enviado 2 (1).pdf\n",
            "Saving raf enviado 2.pdf to raf enviado 2.pdf\n",
            "Saving raf enviado.pdf to raf enviado.pdf\n",
            "Saving RAF Março 2023.pdf to RAF Março 2023.pdf\n",
            "Saving raf_agosto_2022.pdf to raf_agosto_2022.pdf\n",
            "Saving raf_dezembro_2022.pdf to raf_dezembro_2022.pdf\n",
            "Saving raf_fevereiro_2023.pdf to raf_fevereiro_2023.pdf\n",
            "Saving raf_janeiro_2023.pdf to raf_janeiro_2023.pdf\n",
            "Saving raf_junho_2022.pdf to raf_junho_2022.pdf\n",
            "Saving raf_maio_2022.pdf to raf_maio_2022.pdf\n",
            "Saving raf_novembro_2022.pdf to raf_novembro_2022.pdf\n",
            "Saving raf_outubro_2022.pdf to raf_outubro_2022.pdf\n",
            "Saving raf_setembro_2022.pdf to raf_setembro_2022.pdf\n",
            "Saving raf-fevereiro-2022.pdf to raf-fevereiro-2022.pdf\n",
            "Arquivo: \"1_Raf enviado.pdf\", tamanho 248513 bytes\n",
            "Arquivo: \"1_raf_janeiro_2022 versao 2.pdf\", tamanho 248284 bytes\n",
            "Arquivo: \"2_Raf enviado.pdf\", tamanho 248528 bytes\n",
            "Arquivo: \"raf - abril - 2022.pdf\", tamanho 248466 bytes\n",
            "Arquivo: \"raf - marco - 2022.pdf\", tamanho 248284 bytes\n",
            "Arquivo: \"Raf enviado (1).pdf\", tamanho 248621 bytes\n",
            "Arquivo: \"Raf enviado (2).pdf\", tamanho 248567 bytes\n",
            "Arquivo: \"Raf enviado (3).pdf\", tamanho 248523 bytes\n",
            "Arquivo: \"RAF enviado (4).pdf\", tamanho 248526 bytes\n",
            "Arquivo: \"Raf enviado (5).pdf\", tamanho 248554 bytes\n",
            "Arquivo: \"raf enviado 2 (1).pdf\", tamanho 248526 bytes\n",
            "Arquivo: \"raf enviado 2.pdf\", tamanho 248526 bytes\n",
            "Arquivo: \"raf enviado.pdf\", tamanho 248392 bytes\n",
            "Arquivo: \"RAF Março 2023.pdf\", tamanho 248477 bytes\n",
            "Arquivo: \"raf_agosto_2022.pdf\", tamanho 248567 bytes\n",
            "Arquivo: \"raf_dezembro_2022.pdf\", tamanho 248492 bytes\n",
            "Arquivo: \"raf_fevereiro_2023.pdf\", tamanho 248458 bytes\n",
            "Arquivo: \"raf_janeiro_2023.pdf\", tamanho 248504 bytes\n",
            "Arquivo: \"raf_junho_2022.pdf\", tamanho 248528 bytes\n",
            "Arquivo: \"raf_maio_2022.pdf\", tamanho 248528 bytes\n",
            "Arquivo: \"raf_novembro_2022.pdf\", tamanho 248582 bytes\n",
            "Arquivo: \"raf_outubro_2022.pdf\", tamanho 248544 bytes\n",
            "Arquivo: \"raf_setembro_2022.pdf\", tamanho 248475 bytes\n",
            "Arquivo: \"raf-fevereiro-2022.pdf\", tamanho 248436 bytes\n"
          ]
        }
      ]
    },
    {
      "cell_type": "code",
      "source": [
        "# Define o Conselho Estadual de Farmacia do RAF\n",
        "\n",
        "crfs_brasil_dic = {\n",
        "    \"CRF-AC\": \"Conselho Regional de Farmácia do Acre\",\n",
        "    \"CRF-AL\": \"Conselho Regional de Farmácia de Alagoas\",\n",
        "    \"CRF-AP\": \"Conselho Regional de Farmácia do Amapá\",\n",
        "    \"CRF-AM\": \"Conselho Regional de Farmácia do Amazonas\",\n",
        "    \"CRF-BA\": \"Conselho Regional de Farmácia da Bahia\",\n",
        "    \"CRF-CE\": \"Conselho Regional de Farmácia do Ceará\",\n",
        "    \"CRF-DF\": \"Conselho Regional de Farmácia do Distrito Federal\",\n",
        "    \"CRF-ES\": \"Conselho Regional de Farmácia do Espírito Santo\",\n",
        "    \"CRF-GO\": \"Conselho Regional de Farmácia de Goiás\",\n",
        "    \"CRF-MA\": \"Conselho Regional de Farmácia do Maranhão\",\n",
        "    \"CRF-MT\": \"Conselho Regional de Farmácia do Mato Grosso\",\n",
        "    \"CRF-MS\": \"Conselho Regional de Farmácia do Mato Grosso do Sul\",\n",
        "    \"CRF-MG\": \"Conselho Regional de Farmácia de Minas Gerais\",\n",
        "    \"CRF-PA\": \"Conselho Regional de Farmácia do Pará\",\n",
        "    \"CRF-PB\": \"Conselho Regional de Farmácia da Paraíba\",\n",
        "    \"CRF-PR\": \"Conselho Regional de Farmácia do Paraná\",\n",
        "    \"CRF-PE\": \"Conselho Regional de Farmácia de Pernambuco\",\n",
        "    \"CRF-PI\": \"Conselho Regional de Farmácia do Piauí\",\n",
        "    \"CRF-RJ\": \"Conselho Regional de Farmácia do Rio de Janeiro\",\n",
        "    \"CRF-RN\": \"Conselho Regional de Farmácia do Rio Grande do Norte\",\n",
        "    \"CRF-RS\": \"Conselho Regional de Farmácia do Rio Grande do Sul\",\n",
        "    \"CRF-RO\": \"Conselho Regional de Farmácia de Rondônia\",\n",
        "    \"CRF-RR\": \"Conselho Regional de Farmácia de Roraima\",\n",
        "    \"CRF-SC\": \"Conselho Regional de Farmácia de Santa Catarina\",\n",
        "    \"CRF-SP\": \"Conselho Regional de Farmácia de São Paulo\",\n",
        "    \"CRF-SE\": \"Conselho Regional de Farmácia de Sergipe\",\n",
        "    \"CRF-TO\": \"Conselho Regional de Farmácia do Tocantins\"\n",
        "}\n",
        "\n",
        "sigla = \"CRF-\" + input(\"Qual o estado pertence aos arquivos (PDF) do RAF para fazer upload?\\n\"\n",
        "                       \"Escreva somente a sigla do estado!\\n\").upper()\n",
        "\n",
        "while sigla not in crfs_brasil_dic:\n",
        "    print(f\"O estado '{sigla}' não foi encontrado na lista de estados disponíveis.\\n\")\n",
        "    sigla = \"CRF-\" + input(\"Tente de novo, somente a sigla do estado!\\n\").upper()\n",
        "\n",
        "crf_estado = crfs_brasil_dic[sigla]\n",
        "estado= sigla\n",
        "print(f\"\\n   O estado do RAF é {crf_estado}!!\\n\")\n",
        "print(f\"                       {estado}\")"
      ],
      "metadata": {
        "colab": {
          "base_uri": "https://localhost:8080/"
        },
        "id": "6nZ0Q1vGADbZ",
        "outputId": "f406a6a3-db2a-4358-ab71-f1ab8cd61f5f"
      },
      "execution_count": null,
      "outputs": [
        {
          "output_type": "stream",
          "name": "stdout",
          "text": [
            "Qual o estado pertence aos arquivos (PDF) do RAF para fazer upload?\n",
            "Escreva somente a sigla do estado!\n",
            "rs\n",
            "\n",
            "   O estado do RAF é Conselho Regional de Farmácia do Rio Grande do Sul!!\n",
            "\n",
            "                       CRF-RS\n"
          ]
        }
      ]
    },
    {
      "cell_type": "code",
      "source": [
        "# Defina um novo nome dos arquivos de upload e adiciona em uma lista\n",
        "\n",
        "lista_pdf = []  #\n",
        "for i in range(len(uploaded)):\n",
        "  nome_antigo =list(uploaded.keys())[i]\n",
        "  novo_nome = \"raf_\"+estado+\"_file_\"+str(i)+\".pdf\"\n",
        "  os.rename(nome_antigo, novo_nome)# Renomeie o arquivo\n",
        "  lista_pdf.append(novo_nome)"
      ],
      "metadata": {
        "id": "oHFP9yz9y4K9"
      },
      "execution_count": null,
      "outputs": []
    },
    {
      "cell_type": "code",
      "source": [
        "#funçao para converter arquivo em csv\n",
        "def converter_csv(arquivo):\n",
        "  tabula.convert_into(arquivo, arquivo+\"_pg1.csv\", output_format=\"csv\", pages='1')\n",
        "  tabula.convert_into(arquivo, arquivo+\"_pg2.csv\", output_format=\"csv\", pages='2')\n",
        "  return arquivo+\"_pg1.csv\", arquivo+\"_pg2.csv\""
      ],
      "metadata": {
        "id": "G1l3DSN20XR3"
      },
      "execution_count": null,
      "outputs": []
    },
    {
      "cell_type": "code",
      "source": [
        "#execuçao da função nos arquivos pdf(lista_pdf)\n",
        "lista_csv= []\n",
        "for i in range(len(lista_pdf)):\n",
        "  arquivo= lista_pdf[i]\n",
        "  arquivo_convertido= converter_csv(arquivo)\n",
        "  lista_csv.append(arquivo_convertido)\n",
        "print(lista_csv)"
      ],
      "metadata": {
        "colab": {
          "base_uri": "https://localhost:8080/"
        },
        "id": "UIAIxhEr0eyH",
        "outputId": "6ea2c32b-998e-4b9a-d59b-40100d97604e"
      },
      "execution_count": null,
      "outputs": [
        {
          "output_type": "stream",
          "name": "stdout",
          "text": [
            "[('raf_CRF-RS_file_0.pdf_pg1.csv', 'raf_CRF-RS_file_0.pdf_pg2.csv'), ('raf_CRF-RS_file_1.pdf_pg1.csv', 'raf_CRF-RS_file_1.pdf_pg2.csv'), ('raf_CRF-RS_file_2.pdf_pg1.csv', 'raf_CRF-RS_file_2.pdf_pg2.csv'), ('raf_CRF-RS_file_3.pdf_pg1.csv', 'raf_CRF-RS_file_3.pdf_pg2.csv'), ('raf_CRF-RS_file_4.pdf_pg1.csv', 'raf_CRF-RS_file_4.pdf_pg2.csv'), ('raf_CRF-RS_file_5.pdf_pg1.csv', 'raf_CRF-RS_file_5.pdf_pg2.csv'), ('raf_CRF-RS_file_6.pdf_pg1.csv', 'raf_CRF-RS_file_6.pdf_pg2.csv'), ('raf_CRF-RS_file_7.pdf_pg1.csv', 'raf_CRF-RS_file_7.pdf_pg2.csv'), ('raf_CRF-RS_file_8.pdf_pg1.csv', 'raf_CRF-RS_file_8.pdf_pg2.csv'), ('raf_CRF-RS_file_9.pdf_pg1.csv', 'raf_CRF-RS_file_9.pdf_pg2.csv'), ('raf_CRF-RS_file_10.pdf_pg1.csv', 'raf_CRF-RS_file_10.pdf_pg2.csv'), ('raf_CRF-RS_file_11.pdf_pg1.csv', 'raf_CRF-RS_file_11.pdf_pg2.csv'), ('raf_CRF-RS_file_12.pdf_pg1.csv', 'raf_CRF-RS_file_12.pdf_pg2.csv'), ('raf_CRF-RS_file_13.pdf_pg1.csv', 'raf_CRF-RS_file_13.pdf_pg2.csv'), ('raf_CRF-RS_file_14.pdf_pg1.csv', 'raf_CRF-RS_file_14.pdf_pg2.csv'), ('raf_CRF-RS_file_15.pdf_pg1.csv', 'raf_CRF-RS_file_15.pdf_pg2.csv'), ('raf_CRF-RS_file_16.pdf_pg1.csv', 'raf_CRF-RS_file_16.pdf_pg2.csv'), ('raf_CRF-RS_file_17.pdf_pg1.csv', 'raf_CRF-RS_file_17.pdf_pg2.csv'), ('raf_CRF-RS_file_18.pdf_pg1.csv', 'raf_CRF-RS_file_18.pdf_pg2.csv'), ('raf_CRF-RS_file_19.pdf_pg1.csv', 'raf_CRF-RS_file_19.pdf_pg2.csv'), ('raf_CRF-RS_file_20.pdf_pg1.csv', 'raf_CRF-RS_file_20.pdf_pg2.csv'), ('raf_CRF-RS_file_21.pdf_pg1.csv', 'raf_CRF-RS_file_21.pdf_pg2.csv'), ('raf_CRF-RS_file_22.pdf_pg1.csv', 'raf_CRF-RS_file_22.pdf_pg2.csv'), ('raf_CRF-RS_file_23.pdf_pg1.csv', 'raf_CRF-RS_file_23.pdf_pg2.csv')]\n"
          ]
        }
      ]
    },
    {
      "cell_type": "code",
      "source": [
        "#Funçao para criar o dataframe oriundo do csv com o nome de tabela e executa as auteraçoes necessarias\n",
        "def dataframe(lista):\n",
        "    tabelas_csv1 = []\n",
        "    tabelas_csv2 = []\n",
        "\n",
        "    for i in range(len(lista)):\n",
        "        tabela_csv1 = pd.read_csv(lista_csv[i][0])\n",
        "        tabela_csv2 = pd.read_csv(lista_csv[i][1])\n",
        "        cabecalhos = tabela_csv1.columns # pega os nomes da colunas (cabecarios) e cria as variaveis mês e ano e renomeia a coluna\n",
        "        data = cabecalhos[4]\n",
        "        mes= data[8:10]\n",
        "        ano= data[-4:]\n",
        "        tabela_csv1.rename(columns={data:'mes_ano'}, inplace=True)\n",
        "        tabela_csv1[\"Mês\"]= mes #cria coluna Mês com o\n",
        "        tabela_csv1[\"Ano\"]= ano #cria coluna Ano\n",
        "        tabela_csv2[\"Mês\"]= mes #cria coluna Mês com o\n",
        "        tabela_csv2[\"Ano\"]= ano #cria coluna Ano\n",
        "        novos_nomes = {\n",
        "                    \"Unnamed: 0\":\"Tipos de Estabelecimentos\",\n",
        "                    'II Informações da Fiscalização': \"ESTABELECIMENTO_Regular ESTABELECIMENTO_Irregular ESTABELECIMENTO_TOTAL ESTABELECIMENTO_Sem_Registro\" ,\n",
        "                    'CONSELHO FEDERAL DE FARMÁCIA': \"INSPEÇÕES_Assistência_Presente INSPEÇÕES_Assistência_Ausente INSPEÇÕES_Assistência_Outro INSPEÇÕES_TOTAL\",\n",
        "                    'Unnamed: 3': \"ATUAÇÃO_Sem_Responsável\",\n",
        "                    'mes_ano':\"ATUAÇÃO_Horario_Divergente ATUAÇÃO_Atividade_sem_Farma ATUAÇÃO_Sem_Registro ATUAÇÃO_Farma_Ausente\",\n",
        "                    'Unnamed: 5':\"ATUAÇÃO_TOTAL\",\n",
        "                    'Mês':'Mês',\n",
        "                    'Ano': 'Ano'}#renomeia as colunas principais\n",
        "        tabela_csv1 = tabela_csv1.rename(columns=novos_nomes)\n",
        "        colunas_lista = tabela_csv1.columns\n",
        "        tabela_csv1= tabela_csv1.drop([0,1,2,3,4]).reset_index(drop=True) #apaga as 5 primeiras linhas e reseta o index\n",
        "        #dividir as colunas conforme o original\n",
        "        tabela_csv1[[\"ESTABELECIMENTO_Regular\", \"ESTABELECIMENTO_Irregular\", \"ESTABELECIMENTO_TOTAL\", \"ESTABELECIMENTO_Sem_Registro\"]] = tabela_csv1[\"ESTABELECIMENTO_Regular ESTABELECIMENTO_Irregular ESTABELECIMENTO_TOTAL ESTABELECIMENTO_Sem_Registro\"].str.split(' ', expand=True)\n",
        "        tabela_csv1[[\"INSPEÇÕES_Assistência_Presente\", \"INSPEÇÕES_Assistência_Ausente\", \"INSPEÇÕES_Assistência_Outro\", \"INSPEÇÕES_TOTAL\"]] = tabela_csv1[\"INSPEÇÕES_Assistência_Presente INSPEÇÕES_Assistência_Ausente INSPEÇÕES_Assistência_Outro INSPEÇÕES_TOTAL\"].str.split(' ', expand=True)\n",
        "        tabela_csv1[[\"ATUAÇÃO_Horario_Divergente\", \"ATUAÇÃO_Atividade_sem_Farma\", \"ATUAÇÃO_Sem_Registro\", \"ATUAÇÃO_Farma_Ausente\"]] = tabela_csv1[\"ATUAÇÃO_Horario_Divergente ATUAÇÃO_Atividade_sem_Farma ATUAÇÃO_Sem_Registro ATUAÇÃO_Farma_Ausente\"].str.split(' ', expand=True)\n",
        "        # Remover a coluna 'Nome_Idade' original\n",
        "        tabela_csv1.drop(columns=[\"ESTABELECIMENTO_Regular ESTABELECIMENTO_Irregular ESTABELECIMENTO_TOTAL ESTABELECIMENTO_Sem_Registro\"], inplace=True)\n",
        "        tabela_csv1.drop(columns=[\"INSPEÇÕES_Assistência_Presente INSPEÇÕES_Assistência_Ausente INSPEÇÕES_Assistência_Outro INSPEÇÕES_TOTAL\"], inplace=True)\n",
        "        tabela_csv1.drop(columns=[\"ATUAÇÃO_Horario_Divergente ATUAÇÃO_Atividade_sem_Farma ATUAÇÃO_Sem_Registro ATUAÇÃO_Farma_Ausente\"], inplace=True)\n",
        "        #reordernar as colunas\n",
        "        tabela_csv2[\"Mês\"]= mes\n",
        "        tabela_csv2[\"Ano\"]= ano\n",
        "        cabecalhos_trocados = tabela_csv2.columns.tolist() #valores a serem adicionados na tabela_scv1\n",
        "        cabecalhos_trocados[-1]= ano\n",
        "        cabecalhos_trocados[-2]= mes\n",
        "        tabela_csv1= tabela_csv1[['Tipos de Estabelecimentos','ESTABELECIMENTO_Regular', 'ESTABELECIMENTO_Irregular','ESTABELECIMENTO_TOTAL', 'ESTABELECIMENTO_Sem_Registro','INSPEÇÕES_Assistência_Presente', 'INSPEÇÕES_Assistência_Ausente', 'INSPEÇÕES_Assistência_Outro', 'INSPEÇÕES_TOTAL','ATUAÇÃO_Sem_Responsável','ATUAÇÃO_Horario_Divergente', 'ATUAÇÃO_Atividade_sem_Farma', 'ATUAÇÃO_Sem_Registro', 'ATUAÇÃO_Farma_Ausente','ATUAÇÃO_TOTAL', 'Mês', 'Ano']]\n",
        "        linha_faltante = {}\n",
        "        for coluna, cabecalho in zip(tabela_csv1.columns, cabecalhos_trocados):\n",
        "            linha_faltante[coluna] = cabecalho\n",
        "        tabela_csv1 = pd.concat([tabela_csv1, pd.DataFrame([linha_faltante])], ignore_index=True)\n",
        "        tabela_csv1[\"Estado\"] = estado\n",
        "\n",
        "        tabelas_csv1.append(tabela_csv1)\n",
        "        tabelas_csv2.append(tabela_csv2)\n",
        "\n",
        "    return tabelas_csv1, tabelas_csv2"
      ],
      "metadata": {
        "id": "x0qn9gE3Clk6"
      },
      "execution_count": null,
      "outputs": []
    },
    {
      "cell_type": "code",
      "source": [
        "#executa a funçao do dataframe e cria duas listas de dataframes\n",
        "tabelas_csv1, tabelas_csv2 = dataframe(lista_csv)\n"
      ],
      "metadata": {
        "id": "2YYXWdUhNMkW"
      },
      "execution_count": null,
      "outputs": []
    },
    {
      "cell_type": "code",
      "source": [
        "#ordena a lista do dataframe da pagina1 e renomeia, após faz o donwload dos arquivos um por um\n",
        "for i in range(len(tabelas_csv1)):\n",
        "    arquivo_nome = \"RAF_ok_\"+estado+\"_file_\"+ str(i) + \"_pg1.csv\"\n",
        "    tabelas_csv1[i].to_csv(arquivo_nome, index=False)\n",
        "    files.download(\"RAF_ok_\"+estado+\"_file_\"+ str(i) + \"_pg1.csv\")\n",
        "# Verifica se o arquivo CSV foi criado\n",
        "if os.path.exists(\"RAF_ok_\"+estado+\"_file_\"+ str(i) + \"_pg1.csv\"):\n",
        "    print(\"Os arquivos CSV foram unidos com sucesso!\")\n",
        "else:\n",
        "    print(\"Houve um problema ao unir os arquivos CSV.\")\n"
      ],
      "metadata": {
        "colab": {
          "base_uri": "https://localhost:8080/",
          "height": 34
        },
        "id": "qO4-D5RrQ-za",
        "outputId": "744e9764-40d9-4c52-d946-99b5f876e406"
      },
      "execution_count": null,
      "outputs": [
        {
          "output_type": "display_data",
          "data": {
            "text/plain": [
              "<IPython.core.display.Javascript object>"
            ],
            "application/javascript": [
              "\n",
              "    async function download(id, filename, size) {\n",
              "      if (!google.colab.kernel.accessAllowed) {\n",
              "        return;\n",
              "      }\n",
              "      const div = document.createElement('div');\n",
              "      const label = document.createElement('label');\n",
              "      label.textContent = `Downloading \"${filename}\": `;\n",
              "      div.appendChild(label);\n",
              "      const progress = document.createElement('progress');\n",
              "      progress.max = size;\n",
              "      div.appendChild(progress);\n",
              "      document.body.appendChild(div);\n",
              "\n",
              "      const buffers = [];\n",
              "      let downloaded = 0;\n",
              "\n",
              "      const channel = await google.colab.kernel.comms.open(id);\n",
              "      // Send a message to notify the kernel that we're ready.\n",
              "      channel.send({})\n",
              "\n",
              "      for await (const message of channel.messages) {\n",
              "        // Send a message to notify the kernel that we're ready.\n",
              "        channel.send({})\n",
              "        if (message.buffers) {\n",
              "          for (const buffer of message.buffers) {\n",
              "            buffers.push(buffer);\n",
              "            downloaded += buffer.byteLength;\n",
              "            progress.value = downloaded;\n",
              "          }\n",
              "        }\n",
              "      }\n",
              "      const blob = new Blob(buffers, {type: 'application/binary'});\n",
              "      const a = document.createElement('a');\n",
              "      a.href = window.URL.createObjectURL(blob);\n",
              "      a.download = filename;\n",
              "      div.appendChild(a);\n",
              "      a.click();\n",
              "      div.remove();\n",
              "    }\n",
              "  "
            ]
          },
          "metadata": {}
        },
        {
          "output_type": "display_data",
          "data": {
            "text/plain": [
              "<IPython.core.display.Javascript object>"
            ],
            "application/javascript": [
              "download(\"download_419b6317-6b18-4330-8aa2-39c61bb26e0b\", \"RAF_ok_CRF-PA_file_0_pg1.csv\", 4241)"
            ]
          },
          "metadata": {}
        },
        {
          "output_type": "display_data",
          "data": {
            "text/plain": [
              "<IPython.core.display.Javascript object>"
            ],
            "application/javascript": [
              "\n",
              "    async function download(id, filename, size) {\n",
              "      if (!google.colab.kernel.accessAllowed) {\n",
              "        return;\n",
              "      }\n",
              "      const div = document.createElement('div');\n",
              "      const label = document.createElement('label');\n",
              "      label.textContent = `Downloading \"${filename}\": `;\n",
              "      div.appendChild(label);\n",
              "      const progress = document.createElement('progress');\n",
              "      progress.max = size;\n",
              "      div.appendChild(progress);\n",
              "      document.body.appendChild(div);\n",
              "\n",
              "      const buffers = [];\n",
              "      let downloaded = 0;\n",
              "\n",
              "      const channel = await google.colab.kernel.comms.open(id);\n",
              "      // Send a message to notify the kernel that we're ready.\n",
              "      channel.send({})\n",
              "\n",
              "      for await (const message of channel.messages) {\n",
              "        // Send a message to notify the kernel that we're ready.\n",
              "        channel.send({})\n",
              "        if (message.buffers) {\n",
              "          for (const buffer of message.buffers) {\n",
              "            buffers.push(buffer);\n",
              "            downloaded += buffer.byteLength;\n",
              "            progress.value = downloaded;\n",
              "          }\n",
              "        }\n",
              "      }\n",
              "      const blob = new Blob(buffers, {type: 'application/binary'});\n",
              "      const a = document.createElement('a');\n",
              "      a.href = window.URL.createObjectURL(blob);\n",
              "      a.download = filename;\n",
              "      div.appendChild(a);\n",
              "      a.click();\n",
              "      div.remove();\n",
              "    }\n",
              "  "
            ]
          },
          "metadata": {}
        },
        {
          "output_type": "display_data",
          "data": {
            "text/plain": [
              "<IPython.core.display.Javascript object>"
            ],
            "application/javascript": [
              "download(\"download_91fa61fe-591b-4006-ac5c-3cb0089c313c\", \"RAF_ok_CRF-PA_file_1_pg1.csv\", 4289)"
            ]
          },
          "metadata": {}
        },
        {
          "output_type": "display_data",
          "data": {
            "text/plain": [
              "<IPython.core.display.Javascript object>"
            ],
            "application/javascript": [
              "\n",
              "    async function download(id, filename, size) {\n",
              "      if (!google.colab.kernel.accessAllowed) {\n",
              "        return;\n",
              "      }\n",
              "      const div = document.createElement('div');\n",
              "      const label = document.createElement('label');\n",
              "      label.textContent = `Downloading \"${filename}\": `;\n",
              "      div.appendChild(label);\n",
              "      const progress = document.createElement('progress');\n",
              "      progress.max = size;\n",
              "      div.appendChild(progress);\n",
              "      document.body.appendChild(div);\n",
              "\n",
              "      const buffers = [];\n",
              "      let downloaded = 0;\n",
              "\n",
              "      const channel = await google.colab.kernel.comms.open(id);\n",
              "      // Send a message to notify the kernel that we're ready.\n",
              "      channel.send({})\n",
              "\n",
              "      for await (const message of channel.messages) {\n",
              "        // Send a message to notify the kernel that we're ready.\n",
              "        channel.send({})\n",
              "        if (message.buffers) {\n",
              "          for (const buffer of message.buffers) {\n",
              "            buffers.push(buffer);\n",
              "            downloaded += buffer.byteLength;\n",
              "            progress.value = downloaded;\n",
              "          }\n",
              "        }\n",
              "      }\n",
              "      const blob = new Blob(buffers, {type: 'application/binary'});\n",
              "      const a = document.createElement('a');\n",
              "      a.href = window.URL.createObjectURL(blob);\n",
              "      a.download = filename;\n",
              "      div.appendChild(a);\n",
              "      a.click();\n",
              "      div.remove();\n",
              "    }\n",
              "  "
            ]
          },
          "metadata": {}
        },
        {
          "output_type": "display_data",
          "data": {
            "text/plain": [
              "<IPython.core.display.Javascript object>"
            ],
            "application/javascript": [
              "download(\"download_8b593817-ae8f-427c-9244-5e6eb1e60bd4\", \"RAF_ok_CRF-PA_file_2_pg1.csv\", 4289)"
            ]
          },
          "metadata": {}
        },
        {
          "output_type": "stream",
          "name": "stdout",
          "text": [
            "Os arquivos CSV foram unidos com sucesso!\n"
          ]
        }
      ]
    },
    {
      "cell_type": "code",
      "source": [
        "# Concatena os dataframes em um único dataframe\n",
        "dataframe_final = pd.concat(tabelas_csv1)\n",
        "\n",
        "# Salva o dataframe final como um único arquivo CSV\n",
        "dataframe_final.to_csv(\"RAF_ok_\"+estado+\"_pg1.csv\", index=False)\n",
        "\n",
        "# Verifica se o arquivo CSV foi criado\n",
        "if os.path.exists(\"RAF_ok_\"+estado+\"_pg1.csv\"):\n",
        "    print(\"Os arquivos CSV foram unidos com sucesso!\")\n",
        "else:\n",
        "    print(\"Houve um problema ao unir os arquivos CSV.\")\n"
      ],
      "metadata": {
        "colab": {
          "base_uri": "https://localhost:8080/"
        },
        "id": "89esBI3kVRtp",
        "outputId": "7e53d6e3-3cad-4742-90a9-0d264880ba03"
      },
      "execution_count": null,
      "outputs": [
        {
          "output_type": "stream",
          "name": "stdout",
          "text": [
            "Os arquivos CSV foram unidos com sucesso!\n"
          ]
        }
      ]
    }
  ]
}